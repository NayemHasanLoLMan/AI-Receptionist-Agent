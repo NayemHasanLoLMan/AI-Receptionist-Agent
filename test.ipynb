{
 "cells": [
  {
   "cell_type": "code",
   "execution_count": null,
   "metadata": {},
   "outputs": [
    {
     "name": "stdout",
     "output_type": "stream",
     "text": [
      "Okay, let's break down how AI works, focusing on the core concepts and avoiding overly technical jargon.  Think of it as teaching a computer to \"think\" or \"learn\" in a way that mimics human intelligence.\n",
      "\n",
      "**The Basic Idea: Learning from Data**\n",
      "\n",
      "At its heart, AI is about creating systems that can:\n",
      "\n",
      "1.  **Learn:**  Identify patterns and relationships in data.\n",
      "2.  **Reason:**  Use those patterns to make inferences and predictions.\n",
      "3.  **Solve Problems:**  Apply what they've learned to achieve specific goals.\n",
      "\n",
      "**Key Components and Concepts:**\n",
      "\n",
      "*   **Data:**  This is the fuel for AI.  It can be anything: text, images, numbers, sounds, videos, etc.  The more relevant and high-quality data you have, the better the AI can learn.\n",
      "\n",
      "*   **Algorithms:** These are the sets of instructions that tell the computer *how* to learn from the data.  Think of them as recipes for intelligence.  There are many different types of algorithms, each suited for different tasks.\n",
      "\n",
      "*   **Models:**  A model is the result of the learning process.  It's a representation of the patterns and relationships the AI has discovered in the data.  You can think of it as a \"knowledge base\" that the AI uses to make decisions.\n",
      "\n",
      "*   **Training:** This is the process of feeding the data to the algorithm so it can build the model.  The algorithm adjusts its internal parameters to minimize errors and improve its ability to make accurate predictions.\n",
      "\n",
      "*   **Inference/Prediction:** Once the model is trained, it can be used to make predictions or decisions on new, unseen data.  This is where the \"intelligence\" comes into play.\n",
      "\n",
      "**Different Types of AI (Simplified):**\n",
      "\n",
      "AI is a broad field, and there are many different approaches. Here are a few key categories:\n",
      "\n",
      "*   **Machine Learning (ML):** This is the most common type of AI.  It focuses on algorithms that allow computers to learn from data without being explicitly programmed.  Instead of writing specific rules, you give the computer data and let it figure out the rules itself.\n",
      "\n",
      "    *   **Supervised Learning:**  You provide the algorithm with labeled data, meaning you tell it what the correct answer is for each example.  For example, you might show it thousands of pictures of\n"
     ]
    }
   ],
   "source": [
    "from google import genai\n",
    "from google.genai import types\n",
    "\n",
    "client = genai.Client(api_key=\"API KEY\")\n",
    "\n",
    "response = client.models.generate_content(\n",
    "    model=\"gemini-2.0-flash\",\n",
    "    contents=[\"Explain how AI works\"],\n",
    "    config=types.GenerateContentConfig(\n",
    "        max_output_tokens=500,\n",
    "        temperature=0.1\n",
    "    )\n",
    ")\n",
    "print(response.text)"
   ]
  }
 ],
 "metadata": {
  "kernelspec": {
   "display_name": ".venv",
   "language": "python",
   "name": "python3"
  },
  "language_info": {
   "codemirror_mode": {
    "name": "ipython",
    "version": 3
   },
   "file_extension": ".py",
   "mimetype": "text/x-python",
   "name": "python",
   "nbconvert_exporter": "python",
   "pygments_lexer": "ipython3",
   "version": "3.11.9"
  }
 },
 "nbformat": 4,
 "nbformat_minor": 2
}
